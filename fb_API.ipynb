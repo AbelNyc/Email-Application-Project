{
  "nbformat": 4,
  "nbformat_minor": 0,
  "metadata": {
    "colab": {
      "name": "Untitled5.ipynb",
      "provenance": [],
      "collapsed_sections": [],
      "authorship_tag": "ABX9TyMhEjeQEDDh3ZdfqPxWz45W",
      "include_colab_link": true
    },
    "kernelspec": {
      "name": "python3",
      "display_name": "Python 3"
    },
    "language_info": {
      "name": "python"
    }
  },
  "cells": [
    {
      "cell_type": "markdown",
      "metadata": {
        "id": "view-in-github",
        "colab_type": "text"
      },
      "source": [
        "<a href=\"https://colab.research.google.com/github/AbelNyc/Email-Application-Project/blob/master/fb_API.ipynb\" target=\"_parent\"><img src=\"https://colab.research.google.com/assets/colab-badge.svg\" alt=\"Open In Colab\"/></a>"
      ]
    },
    {
      "cell_type": "code",
      "execution_count": 1,
      "metadata": {
        "id": "bxLsnKY87s9I"
      },
      "outputs": [],
      "source": [
        "import requests\n",
        "import json"
      ]
    },
    {
      "cell_type": "code",
      "source": [
        "base_url = \"https://graph.facebook.com/me\""
      ],
      "metadata": {
        "id": "mr4Vj4qMBuFs"
      },
      "execution_count": 2,
      "outputs": []
    },
    {
      "cell_type": "code",
      "source": [
        "fields = 'id,name,likes.limit(10).{about}'\n",
        "ACCESS_TOKEN = 'EAAWZCygZB9KLcBAF5Fy72tAjGl3w1wvB2oRUf4lIxNVaJmLs6kW00QEiV0sUGnZBBYvPFc06KiOFe4o5CkSZAdKaWbhPE4od6SQZCrWTuvp7q2MZCJxIkzO9e1MX7ZBukH3Y35EdZBgBxzWZAXutDGODgFG5cA4ZBrEgeXeKZAT84ZBgXsSZAjErUNcttRX71wuVhMj01jtA7fbqCuk2s1lAEURxNjXjV1mZBohZAvaPSUJJ8czAwBnawAwFI6a'\n",
        "url = '{0}?fields={1}&access_token={2}'.format(base_url, fields,  ACCESS_TOKEN)"
      ],
      "metadata": {
        "id": "48UYb4fFB7gW"
      },
      "execution_count": 5,
      "outputs": []
    },
    {
      "cell_type": "code",
      "source": [
        ""
      ],
      "metadata": {
        "id": "N_CXzHvvELEX"
      },
      "execution_count": null,
      "outputs": []
    },
    {
      "cell_type": "code",
      "source": [
        ""
      ],
      "metadata": {
        "id": "E1oTQZuNDHbn"
      },
      "execution_count": null,
      "outputs": []
    },
    {
      "cell_type": "code",
      "source": [
        ""
      ],
      "metadata": {
        "id": "YYzLob5MDDV3"
      },
      "execution_count": null,
      "outputs": []
    }
  ]
}